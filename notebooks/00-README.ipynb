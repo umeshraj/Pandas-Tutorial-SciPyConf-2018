{
 "cells": [
  {
   "cell_type": "markdown",
   "metadata": {},
   "source": [
    "# Introduction"
   ]
  },
  {
   "cell_type": "markdown",
   "metadata": {},
   "source": [
    "Welcome to the course!\n",
    "This notebook will outline our structure for the course, and introduce you to the notebook if you haven't used it before."
   ]
  },
  {
   "cell_type": "markdown",
   "metadata": {},
   "source": [
    "## Background Expectations\n",
    "\n",
    "- Hopefully you've used Python before\n",
    "- Experience with NumPy will be helpful, but not required\n",
    "- Pandas will be the primary focus\n",
    "- We'll see bits of scikit-learn and statsmodels"
   ]
  },
  {
   "cell_type": "markdown",
   "metadata": {},
   "source": [
    "## Course Format\n",
    "\n",
    "- We'll work through notebooks together (execute each cell)\n",
    "- You'll do exercises\n",
    "- During exercises, we'll follow-up on questions\n",
    "- We'll demonstrate the solutions"
   ]
  },
  {
   "cell_type": "markdown",
   "metadata": {},
   "source": [
    "## Jupyter Notebook\n",
    "\n",
    "> The Jupyter Notebook is a web application that allows you to create and share documents that contain live code, equations, visualizations and explanatory text.\n",
    "\n",
    "- Two Modes: Edit and Command\n",
    "- Command -> Edit: `Enter`\n",
    "- Edit -> Command: `Esc`\n",
    "- Execute a Cell: `Shift+Enter`\n",
    "- Down: `j/Down Arrow`\n",
    "- Up: `k/Up Arrow`"
   ]
  },
  {
   "cell_type": "markdown",
   "metadata": {},
   "source": [
    "## Tab Completion\n",
    "\n",
    "IPython will tab complete method names and function arguments\n",
    "\n",
    "Use `shift+tab` to inside a function call to show the signature"
   ]
  },
  {
   "cell_type": "code",
   "execution_count": null,
   "metadata": {},
   "outputs": [],
   "source": [
    "# type str.<TAB>\n"
   ]
  },
  {
   "cell_type": "code",
   "execution_count": null,
   "metadata": {},
   "outputs": [],
   "source": [
    "# type str.split(<shift+TAB>)\n"
   ]
  },
  {
   "cell_type": "markdown",
   "metadata": {},
   "source": [
    "## Exercises\n",
    "\n",
    "- Lots of small exercises to check understanding\n",
    "- Each exercise includes\n",
    "    + A prompt / question to be answered\n",
    "    + An empty cell for code\n",
    "    + A \"magic\" cell that loads a solution\n",
    "- Execute the magic cell twice"
   ]
  },
  {
   "cell_type": "markdown",
   "metadata": {},
   "source": [
    "<div class=\"alert alert-success\" data-title=\"Print 'Hello, world!'\">\n",
    "  <h1><i class=\"fa fa-tasks\" aria-hidden=\"true\"></i> Exercise: Print 'Hello, world!'</h1>\n",
    "</div>\n",
    "\n",
    "<p>Print the text \"Hello, world!\"</p>"
   ]
  },
  {
   "cell_type": "code",
   "execution_count": null,
   "metadata": {},
   "outputs": [],
   "source": [
    "# Your code here\n"
   ]
  },
  {
   "cell_type": "code",
   "execution_count": null,
   "metadata": {},
   "outputs": [],
   "source": [
    "# %load solutions/readme_00.py"
   ]
  },
  {
   "cell_type": "markdown",
   "metadata": {},
   "source": [
    "Make sure to run the solution cell twice. I'd encourage you to always\n",
    "run the solution cell, as later steps in the notebooks will depend on earlier\n",
    "steps being correct."
   ]
  },
  {
   "cell_type": "markdown",
   "metadata": {},
   "source": [
    "## Pandas Cheat Sheet\n",
    "\n",
    "https://github.com/pandas-dev/pandas/blob/master/doc/cheatsheet/Pandas_Cheat_Sheet.pdf\n",
    "\n",
    "![cheat sheet](figures/cheat-sheet-preview.png)\n"
   ]
  },
  {
   "cell_type": "markdown",
   "metadata": {},
   "source": [
    "## Notebooks\n",
    "\n",
    "1. [Indexing](01-Indexing.ipynb)\n",
    "2. [Alignment](02-Alignment.ipynb)\n",
    "3. [Iterators & Groupby](03-Iterators-Groupby.ipynb)\n",
    "4. [Visualization](04-Visualization.ipynb)\n",
    "5. [Tidy Data](05-Tidy-Data.ipynb)\n",
    "6. [Performance](06-Performance.ipynb)\n",
    "7. [Timeseries](07-Timeseries.ipynb)\n",
    "8. [Ecosystem](08-Pandas-NumPy-ScikitLearn.ipynb)"
   ]
  }
 ],
 "metadata": {
  "kernelspec": {
   "display_name": "Python 3",
   "language": "python",
   "name": "python3"
  },
  "language_info": {
   "codemirror_mode": {
    "name": "ipython",
    "version": 3
   },
   "file_extension": ".py",
   "mimetype": "text/x-python",
   "name": "python",
   "nbconvert_exporter": "python",
   "pygments_lexer": "ipython3",
   "version": "3.7.0"
  }
 },
 "nbformat": 4,
 "nbformat_minor": 2
}
